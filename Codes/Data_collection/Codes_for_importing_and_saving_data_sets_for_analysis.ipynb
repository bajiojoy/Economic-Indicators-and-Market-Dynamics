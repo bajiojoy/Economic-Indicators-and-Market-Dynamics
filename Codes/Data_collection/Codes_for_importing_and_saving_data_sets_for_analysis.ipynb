{
 "cells": [
  {
   "cell_type": "code",
   "execution_count": 11,
   "metadata": {},
   "outputs": [
    {
     "name": "stderr",
     "output_type": "stream",
     "text": [
      "[*********************100%%**********************]  1 of 1 completed\n"
     ]
    }
   ],
   "source": [
    "# Collect S&P 500 data for last 25 yrs\n",
    "import pandas as pd\n",
    "import yfinance as yf\n",
    "\n",
    "start_date = '1997-01-01'\n",
    "end_date = '2023-12-31'\n",
    "\n",
    "sp500_data = yf.download ('^GSPC', start = start_date, end = end_date)\n",
    "\n",
    "sp500_data.to_csv('sp500_data.csv', index = True)"
   ]
  },
  {
   "cell_type": "code",
   "execution_count": 19,
   "metadata": {},
   "outputs": [],
   "source": [
    "# Collect PCE data for last 25 years\n",
    "import pandas as pd\n",
    "import pandas_datareader as pdr\n",
    "from datetime import datetime\n",
    "\n",
    "start_date = datetime (1998, 1, 1)\n",
    "end_date = datetime (2023, 12, 31)\n",
    "\n",
    "inflation_data_cpe = pdr.get_data_fred ('CPIAUCSL', start = start_date, end = end_date)\n",
    "inflation_data_cpe.to_csv('inflation_data_cpe.csv', index = True)"
   ]
  },
  {
   "cell_type": "code",
   "execution_count": 21,
   "metadata": {},
   "outputs": [],
   "source": [
    "# Collect Unemployment rate data for last 25 years\n",
    "import pandas as pd\n",
    "import pandas_datareader as pdr\n",
    "from datetime import datetime\n",
    "\n",
    "start_date = datetime (1998, 1, 1)\n",
    "end_date = datetime (2023, 12, 31)\n",
    "\n",
    "Unemployment_data = pdr.get_data_fred ('UNRATE', start = start_date, end = end_date)\n",
    "Unemployment_data.to_csv('unemployment_data.csv', index = True)"
   ]
  },
  {
   "cell_type": "code",
   "execution_count": 22,
   "metadata": {},
   "outputs": [],
   "source": [
    "# Collect GDP Growth rate data for last 25 years\n",
    "import pandas as pd\n",
    "import pandas_datareader as pdr\n",
    "from datetime import datetime\n",
    "\n",
    "start_date = datetime (1998, 1, 1)\n",
    "end_date = datetime (2023, 12, 31)\n",
    "\n",
    "gdp_rate_data = pdr.get_data_fred ('A191RL1Q225SBEA', start = start_date, end = end_date)\n",
    "gdp_rate_data.to_csv('gdp_rate_data.csv', index = True)"
   ]
  },
  {
   "cell_type": "code",
   "execution_count": 24,
   "metadata": {},
   "outputs": [],
   "source": [
    "# Collect Fed Funds rate for last 25 years\n",
    "import pandas as pd\n",
    "import pandas_datareader as pdr\n",
    "from datetime import datetime\n",
    "\n",
    "start_date = datetime (1998, 1, 1)\n",
    "end_date = datetime (2023, 12, 31)\n",
    "\n",
    "fed_funds_rate = pdr.get_data_fred ('FEDFUNDS', start = start_date, end = end_date)\n",
    "fed_funds_rate.to_csv ('fed_funds_rate.csv', index = True)"
   ]
  },
  {
   "cell_type": "code",
   "execution_count": 26,
   "metadata": {},
   "outputs": [],
   "source": [
    "# Collect M2 data - money available for spending, saving, and investment within the economy.\n",
    "import pandas as pd\n",
    "import pandas_datareader as pdr\n",
    "from datetime import datetime\n",
    "\n",
    "start_date = datetime (1998, 1, 1)\n",
    "end_date = datetime (2023, 12, 31)\n",
    "\n",
    "m2_data = pdr.get_data_fred('M2', start = start_date, end = end_date)\n",
    "m2_data.to_csv ('m2_data.csv', index = True)"
   ]
  }
 ],
 "metadata": {
  "kernelspec": {
   "display_name": "base",
   "language": "python",
   "name": "python3"
  },
  "language_info": {
   "codemirror_mode": {
    "name": "ipython",
    "version": 3
   },
   "file_extension": ".py",
   "mimetype": "text/x-python",
   "name": "python",
   "nbconvert_exporter": "python",
   "pygments_lexer": "ipython3",
   "version": "3.12.1"
  }
 },
 "nbformat": 4,
 "nbformat_minor": 2
}
